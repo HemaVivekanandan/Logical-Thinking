{
  "nbformat": 4,
  "nbformat_minor": 0,
  "metadata": {
    "colab": {
      "name": "Real Estate.ipynb",
      "provenance": [],
      "collapsed_sections": [],
      "authorship_tag": "ABX9TyMhpssUwIIBOrz7XHqXzxr2",
      "include_colab_link": true
    },
    "kernelspec": {
      "name": "python3",
      "display_name": "Python 3"
    }
  },
  "cells": [
    {
      "cell_type": "markdown",
      "metadata": {
        "id": "view-in-github",
        "colab_type": "text"
      },
      "source": [
        "<a href=\"https://colab.research.google.com/github/HemaVivekanandan/Logical-Thinking/blob/master/Real_Estate.ipynb\" target=\"_parent\"><img src=\"https://colab.research.google.com/assets/colab-badge.svg\" alt=\"Open In Colab\"/></a>"
      ]
    },
    {
      "cell_type": "code",
      "metadata": {
        "id": "zGy45JlV-JQ_",
        "colab_type": "code",
        "colab": {
          "base_uri": "https://localhost:8080/",
          "height": 85
        },
        "outputId": "6b8d7810-e336-4382-acf4-0055513f2f09"
      },
      "source": [
        "#Part A:\n",
        "annual_salary = float(input(\"Enter your annual salary: \"))\n",
        "portion_saved = float(input(\"Enter the percent of your salary to save, as a decimal: \"))\n",
        "total_cost = float(input(\"Enter the cost of your dream home: \"))\n",
        "portion_down_payment = 0.25\n",
        "current_savings = 0\n",
        "r = 0.04\n",
        "monthly_salary = annual_salary/12\n",
        "months = 0\n",
        "down_payment = portion_down_payment*total_cost\n",
        "while(current_savings <= down_payment):\n",
        "  current_savings = (current_savings*r/12) + portion_saved*monthly_salary + current_savings\n",
        "  months = months+1\n",
        "print(f\"Number of months: {months}\")\n"
      ],
      "execution_count": null,
      "outputs": [
        {
          "output_type": "stream",
          "text": [
            "Enter your annual salary: 120000\n",
            "Enter the percent of your salary to save, as a decimal: .10\n",
            "Enter the cost of your dream home: 1000000\n",
            "Number of months: 183\n"
          ],
          "name": "stdout"
        }
      ]
    },
    {
      "cell_type": "code",
      "metadata": {
        "id": "9aV1X9rLWekB",
        "colab_type": "code",
        "colab": {
          "base_uri": "https://localhost:8080/",
          "height": 102
        },
        "outputId": "81736dc2-fc75-4544-840e-10be133b6863"
      },
      "source": [
        "#Part B:\n",
        "annual_salary = float(input(\"Enter your starting annual salary: \"))\n",
        "portion_saved = float(input(\"Enter the percent of your salary to save, as a decimal: \"))\n",
        "total_cost = float(input(\"Enter the cost of your dream home: \"))\n",
        "semi_annual_raise = float(input(\"Enter the semiannual raise, as a decimal: \"))\n",
        "portion_down_payment = 0.25\n",
        "current_savings = 0\n",
        "r = 0.04\n",
        "monthly_salary = annual_salary/12\n",
        "months = 0\n",
        "down_payment = portion_down_payment*total_cost\n",
        "while(current_savings <= down_payment):\n",
        "  current_savings = (current_savings*r/12) + portion_saved*monthly_salary + current_savings\n",
        "  months = months+1\n",
        "  if(months%6 == 0):\n",
        "    monthly_salary = monthly_salary + monthly_salary*semi_annual_raise\n",
        "print(f\"Number of months: {months}\")\n"
      ],
      "execution_count": null,
      "outputs": [
        {
          "output_type": "stream",
          "text": [
            "Enter your starting annual salary: 120000\n",
            "Enter the percent of your salary to save, as a decimal: .05\n",
            "Enter the cost of your dream home: 500000\n",
            "Enter the semiannual raise, as a decimal: .03\n",
            "Number of months: 142\n"
          ],
          "name": "stdout"
        }
      ]
    },
    {
      "cell_type": "code",
      "metadata": {
        "id": "3e8g5jwk7gBV",
        "colab_type": "code",
        "colab": {
          "base_uri": "https://localhost:8080/",
          "height": 70
        },
        "outputId": "93bf8f51-1ba3-4588-a8e7-bcc04a805d87"
      },
      "source": [
        "#part c\n",
        "annual_salary = float(input(\"Enter the starting  salary: \"))\n",
        "total_cost = 1000000\n",
        "semi_annual_raise = 0.07\n",
        "r = 0.04\n",
        "monthly_salary = annual_salary/12\n",
        "months = 36\n",
        "portion_down_payment = 0.25\n",
        "down_payment = portion_down_payment*total_cost\n",
        "low = 0\n",
        "high = 1\n",
        "epsilon = 100\n",
        "ans = (low+high)/2\n",
        "step = 0\n",
        "total_salary = 0\n",
        "for i in range(0, 36):\n",
        "  if(months!=0 and months%6==0):\n",
        "    monthly_salary = monthly_salary*semi_annual_raise + monthly_salary\n",
        "  monthly_savings = monthly_salary*(r/12) + monthly_salary\n",
        "  total_salary = total_salary + monthly_savings\n",
        "if(total_salary<down_payment - 100):\n",
        "  print(\"It is not possible to pay the down payment in three years\")\n",
        "else:\n",
        "  current_savings = total_salary*ans\n",
        "  while abs(current_savings-down_payment)>=epsilon:\n",
        "    step = step+1\n",
        "    if(current_savings<down_payment):\n",
        "      low = ans\n",
        "    else:\n",
        "      high = ans\n",
        "    ans = (low + high)/2\n",
        "    current_savings = total_salary*ans\n",
        "  print(\"Best savings rate: \", ans)\n",
        "  print(\"Steps in Bisection search: \", step)\n"
      ],
      "execution_count": null,
      "outputs": [
        {
          "output_type": "stream",
          "text": [
            "Enter the starting  salary: 150000\n",
            "Best savings rate:  0.1251220703125\n",
            "Steps in Bisection search:  12\n"
          ],
          "name": "stdout"
        }
      ]
    }
  ]
}